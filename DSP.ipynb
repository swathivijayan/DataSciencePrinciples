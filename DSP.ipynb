{
 "cells": [
  {
   "cell_type": "markdown",
   "metadata": {},
   "source": [
    "# COMM054 Data Science Principles and Practices Coursework\n",
    "### Name:Swathi Vijayan\n",
    "### URN: 6676660"
   ]
  },
  {
   "cell_type": "markdown",
   "metadata": {},
   "source": [
    "## Task 1:Maximum Likelihood Estimation and Maximum A Posteriori"
   ]
  },
  {
   "cell_type": "markdown",
   "metadata": {},
   "source": [
    "Maximum Likelihood estimation is a technique for creating parameter estimators. It selects the parameter that gives the likelihood function the highest value.\n",
    "\n",
    "The goal of Maximum A Posteriori (MAP) inference is to discover parameters that maximise the posterior distribution. Rather than producing distributions, it generates single-value estimates of model parameters.\n",
    "\n",
    "If the prior is uniform (flat), maximum likelihood inference and MAP inference are equivalent"
   ]
  },
  {
   "cell_type": "markdown",
   "metadata": {},
   "source": [
    "In this task,the key concepts of MLE and MAP is adressed and how it is implemeted in the code is shown.This is done by fitiing the data using the Poisson and Negative binomial distribution."
   ]
  },
  {
   "cell_type": "markdown",
   "metadata": {},
   "source": [
    "### Dataset\n",
    "‘Quiet Flows the Don’ was a book written by Russian novelist Mikhail Sholokhov,who was awarded the Nobel prize for literature in 1965. However there was some controversy about the authorship of the novel, with some claiming it had actually been written by another author.For investigating , a statistical analysis of the text in the book was performed,considering the distribution of sentence lengths in the book. The first step of the statistical analysis is to fit a probability distribution to these sentence lengths."
   ]
  },
  {
   "cell_type": "markdown",
   "metadata": {},
   "source": [
    "### Importing the required libraries"
   ]
  },
  {
   "cell_type": "code",
   "execution_count": 237,
   "metadata": {},
   "outputs": [],
   "source": [
    "import numpy as np\n",
    "import pandas as pd\n",
    "import matplotlib.pyplot as plt\n",
    "from scipy.optimize import minimize as mini\n",
    "from scipy.stats import poisson as poi\n",
    "from scipy.stats import gamma\n",
    "import statistics\n",
    "import seaborn as sns\n",
    "import statsmodels.api as sm"
   ]
  },
  {
   "cell_type": "code",
   "execution_count": 205,
   "metadata": {},
   "outputs": [],
   "source": [
    "#To remove any warnings\n",
    "import warnings\n",
    "warnings.filterwarnings('ignore')\n",
    "warnings.simplefilter('ignore')"
   ]
  },
  {
   "cell_type": "markdown",
   "metadata": {},
   "source": [
    "### Import Dataset"
   ]
  },
  {
   "cell_type": "code",
   "execution_count": 38,
   "metadata": {},
   "outputs": [],
   "source": [
    "dataset=pd.read_csv(\"QuietDonSentenceLengths.csv\",header=None)"
   ]
  },
  {
   "cell_type": "code",
   "execution_count": 389,
   "metadata": {},
   "outputs": [
    {
     "data": {
      "text/html": [
       "<div>\n",
       "<style scoped>\n",
       "    .dataframe tbody tr th:only-of-type {\n",
       "        vertical-align: middle;\n",
       "    }\n",
       "\n",
       "    .dataframe tbody tr th {\n",
       "        vertical-align: top;\n",
       "    }\n",
       "\n",
       "    .dataframe thead th {\n",
       "        text-align: right;\n",
       "    }\n",
       "</style>\n",
       "<table border=\"1\" class=\"dataframe\">\n",
       "  <thead>\n",
       "    <tr style=\"text-align: right;\">\n",
       "      <th></th>\n",
       "      <th>Length</th>\n",
       "    </tr>\n",
       "  </thead>\n",
       "  <tbody>\n",
       "    <tr>\n",
       "      <th>0</th>\n",
       "      <td>6</td>\n",
       "    </tr>\n",
       "    <tr>\n",
       "      <th>1</th>\n",
       "      <td>25</td>\n",
       "    </tr>\n",
       "    <tr>\n",
       "      <th>2</th>\n",
       "      <td>12</td>\n",
       "    </tr>\n",
       "    <tr>\n",
       "      <th>3</th>\n",
       "      <td>10</td>\n",
       "    </tr>\n",
       "    <tr>\n",
       "      <th>4</th>\n",
       "      <td>16</td>\n",
       "    </tr>\n",
       "  </tbody>\n",
       "</table>\n",
       "</div>"
      ],
      "text/plain": [
       "   Length\n",
       "0       6\n",
       "1      25\n",
       "2      12\n",
       "3      10\n",
       "4      16"
      ]
     },
     "execution_count": 389,
     "metadata": {},
     "output_type": "execute_result"
    }
   ],
   "source": [
    "dataset.head(5)"
   ]
  },
  {
   "cell_type": "code",
   "execution_count": 44,
   "metadata": {},
   "outputs": [],
   "source": [
    "dataset.columns = ['Length']"
   ]
  },
  {
   "cell_type": "code",
   "execution_count": 326,
   "metadata": {},
   "outputs": [
    {
     "data": {
      "text/html": [
       "<div>\n",
       "<style scoped>\n",
       "    .dataframe tbody tr th:only-of-type {\n",
       "        vertical-align: middle;\n",
       "    }\n",
       "\n",
       "    .dataframe tbody tr th {\n",
       "        vertical-align: top;\n",
       "    }\n",
       "\n",
       "    .dataframe thead th {\n",
       "        text-align: right;\n",
       "    }\n",
       "</style>\n",
       "<table border=\"1\" class=\"dataframe\">\n",
       "  <thead>\n",
       "    <tr style=\"text-align: right;\">\n",
       "      <th></th>\n",
       "      <th>Length</th>\n",
       "    </tr>\n",
       "  </thead>\n",
       "  <tbody>\n",
       "    <tr>\n",
       "      <th>0</th>\n",
       "      <td>6</td>\n",
       "    </tr>\n",
       "    <tr>\n",
       "      <th>1</th>\n",
       "      <td>25</td>\n",
       "    </tr>\n",
       "    <tr>\n",
       "      <th>2</th>\n",
       "      <td>12</td>\n",
       "    </tr>\n",
       "    <tr>\n",
       "      <th>3</th>\n",
       "      <td>10</td>\n",
       "    </tr>\n",
       "    <tr>\n",
       "      <th>4</th>\n",
       "      <td>16</td>\n",
       "    </tr>\n",
       "  </tbody>\n",
       "</table>\n",
       "</div>"
      ],
      "text/plain": [
       "   Length\n",
       "0       6\n",
       "1      25\n",
       "2      12\n",
       "3      10\n",
       "4      16"
      ]
     },
     "execution_count": 326,
     "metadata": {},
     "output_type": "execute_result"
    }
   ],
   "source": [
    "dataset.head(5)"
   ]
  },
  {
   "cell_type": "code",
   "execution_count": 46,
   "metadata": {},
   "outputs": [
    {
     "data": {
      "text/plain": [
       "3760"
      ]
     },
     "execution_count": 46,
     "metadata": {},
     "output_type": "execute_result"
    }
   ],
   "source": [
    "len(dataset)"
   ]
  },
  {
   "cell_type": "code",
   "execution_count": 47,
   "metadata": {},
   "outputs": [],
   "source": [
    "mean = dataset['Length'].mean()"
   ]
  },
  {
   "cell_type": "code",
   "execution_count": 48,
   "metadata": {},
   "outputs": [
    {
     "data": {
      "text/plain": [
       "12.67313829787234"
      ]
     },
     "execution_count": 48,
     "metadata": {},
     "output_type": "execute_result"
    }
   ],
   "source": [
    "mean"
   ]
  },
  {
   "cell_type": "code",
   "execution_count": 49,
   "metadata": {},
   "outputs": [],
   "source": [
    "sigma=dataset['Length'].std()"
   ]
  },
  {
   "cell_type": "code",
   "execution_count": 50,
   "metadata": {},
   "outputs": [
    {
     "data": {
      "text/plain": [
       "9.124034996812505"
      ]
     },
     "execution_count": 50,
     "metadata": {},
     "output_type": "execute_result"
    }
   ],
   "source": [
    "sigma"
   ]
  },
  {
   "cell_type": "code",
   "execution_count": 269,
   "metadata": {},
   "outputs": [],
   "source": [
    "variance=dataset['Length'].var()"
   ]
  },
  {
   "cell_type": "code",
   "execution_count": 270,
   "metadata": {},
   "outputs": [
    {
     "data": {
      "text/plain": [
       "83.24801462305936"
      ]
     },
     "execution_count": 270,
     "metadata": {},
     "output_type": "execute_result"
    }
   ],
   "source": [
    "variance"
   ]
  },
  {
   "cell_type": "markdown",
   "metadata": {},
   "source": [
    "## Maximum Likelihood Estimation"
   ]
  },
  {
   "cell_type": "markdown",
   "metadata": {},
   "source": [
    "### Poisson Distribution \n",
    "\n",
    "A Poisson distribution is a probability distribution that may be used to estimate how many times an event will occur over a certain time period. To put it another way, it's a count distribution.It is a discrete function, which means the variable may only take particular values from a (possibly endless) set of possibilities.The number of occurences is expected to be constant throughout the experiment.\n",
    "\n",
    "p(x;$\\lambda$ ))= $\\lambda {^x}*exp{^-\\lambda}$/x!\n",
    "Here lambda is the average number of events and x is the observed datapoint.\n",
    "\n",
    "The pmf of poisson distribution can be written as\n",
    "$P[Y=y]= e^{−\\mu} \\frac{\\mu^y}{y!} $,\n",
    "\n",
    "where $\\mu$ is the parameter. \n"
   ]
  },
  {
   "cell_type": "markdown",
   "metadata": {},
   "source": [
    "We can **fit** function to estimate the parameter of the Poisson distribution. "
   ]
  },
  {
   "cell_type": "code",
   "execution_count": 92,
   "metadata": {},
   "outputs": [
    {
     "name": "stdout",
     "output_type": "stream",
     "text": [
      "Optimization terminated successfully.\n",
      "         Current function value: 4.947456\n",
      "         Iterations 1\n",
      "                          Poisson Regression Results                          \n",
      "==============================================================================\n",
      "Dep. Variable:                 Length   No. Observations:                 3760\n",
      "Model:                        Poisson   Df Residuals:                     3759\n",
      "Method:                           MLE   Df Model:                            0\n",
      "Date:                Mon, 31 May 2021   Pseudo R-squ.:                   0.000\n",
      "Time:                        18:27:49   Log-Likelihood:                -18602.\n",
      "converged:                       True   LL-Null:                       -18602.\n",
      "Covariance Type:            nonrobust   LLR p-value:                       nan\n",
      "==============================================================================\n",
      "                 coef    std err          z      P>|z|      [0.025      0.975]\n",
      "------------------------------------------------------------------------------\n",
      "const          2.5395      0.005    554.347      0.000       2.531       2.548\n",
      "==============================================================================\n"
     ]
    },
    {
     "data": {
      "text/plain": [
       "const    12.673138\n",
       "dtype: float64"
      ]
     },
     "execution_count": 92,
     "metadata": {},
     "output_type": "execute_result"
    }
   ],
   "source": [
    "X = np.ones_like(dataset)\n",
    "res = sm.Poisson(dataset,X).fit()\n",
    "print(res.summary())\n",
    "np.exp(res.params)"
   ]
  },
  {
   "cell_type": "code",
   "execution_count": 94,
   "metadata": {},
   "outputs": [
    {
     "data": {
      "text/plain": [
       "-18602.43353218632"
      ]
     },
     "execution_count": 94,
     "metadata": {},
     "output_type": "execute_result"
    }
   ],
   "source": [
    "log = poi.logpmf(dataset,mu=mean)\n",
    "np.sum(log)"
   ]
  },
  {
   "cell_type": "code",
   "execution_count": 243,
   "metadata": {},
   "outputs": [],
   "source": [
    "def f(mu):\n",
    "    log_likely = np.sum(poi.logpmf(dataset,mu=mu))\n",
    "    return -log_likely"
   ]
  },
  {
   "cell_type": "markdown",
   "metadata": {},
   "source": [
    "Here in the function described above,it calculates the product of individual product densities in logarithmic form for the parameter mu."
   ]
  },
  {
   "cell_type": "code",
   "execution_count": 248,
   "metadata": {},
   "outputs": [
    {
     "data": {
      "text/plain": [
       "18602.43353218632"
      ]
     },
     "execution_count": 248,
     "metadata": {},
     "output_type": "execute_result"
    }
   ],
   "source": [
    "f(mean)"
   ]
  },
  {
   "cell_type": "markdown",
   "metadata": {},
   "source": [
    "The loglikelihood is determined using the random parameter (mu). The best parameter is chosen by calculating the largest loglikelihood estimate. To do this, we'll utilise a library function for searching through the parameter mu"
   ]
  },
  {
   "cell_type": "code",
   "execution_count": 246,
   "metadata": {},
   "outputs": [
    {
     "data": {
      "text/plain": [
       "      fun: 18602.43353218634\n",
       " hess_inv: array([[9.4587449e-11]])\n",
       "      jac: array([0.00073242])\n",
       "  message: 'Desired error not necessarily achieved due to precision loss.'\n",
       "     nfev: 54\n",
       "      nit: 13\n",
       "     njev: 27\n",
       "   status: 2\n",
       "  success: False\n",
       "        x: array([12.6731379])"
      ]
     },
     "execution_count": 246,
     "metadata": {},
     "output_type": "execute_result"
    }
   ],
   "source": [
    "mini(f,1)"
   ]
  },
  {
   "cell_type": "markdown",
   "metadata": {},
   "source": [
    "The minimize function is used from the scipy library which can reduce the size of the function.Here we attempt to maximise the log likelihood uing this function."
   ]
  },
  {
   "cell_type": "code",
   "execution_count": 247,
   "metadata": {},
   "outputs": [
    {
     "data": {
      "text/plain": [
       "<matplotlib.lines.Line2D at 0x2348cd4d8e0>"
      ]
     },
     "execution_count": 247,
     "metadata": {},
     "output_type": "execute_result"
    },
    {
     "data": {
      "image/png": "[encoded data removed]",
      "text/plain": [
       "<Figure size 432x288 with 1 Axes>"
      ]
     },
     "metadata": {
      "needs_background": "light"
     },
     "output_type": "display_data"
    }
   ],
   "source": [
    "mus = np.linspace(0,15,3760) # create an array of 3760 values from mean of 0 to 13\n",
    "\n",
    "ys = [] # create an empty list of y coordinates\n",
    "for mu in mus: # for each value of mu in the range\n",
    "    ys.append(f(mu)) # add func(mus,dataset) to the list of y coordinates\n",
    "\n",
    "plt.plot(mus,ys) # plot a line for the negative log likelihood\n",
    "plt.axvline(mean,color='green')"
   ]
  },
  {
   "cell_type": "markdown",
   "metadata": {},
   "source": [
    "The likelihood changes as the average value is changed, as seen in this graph. The correspoding mean value of the largest probability estimate is indicated by the vertical line. In our data, the best parameter for the mean is 12.67, which is the best probability estimate."
   ]
  },
  {
   "cell_type": "markdown",
   "metadata": {},
   "source": [
    "Here we can expect an average of 12.67 length sentences which are written by the Russian Author"
   ]
  },
  {
   "cell_type": "markdown",
   "metadata": {},
   "source": [
    "### Negative Binomial distribution\n",
    "\n",
    "In probability theory and statistics, the negative binomial distribution mimics the number of wins in a sequence of independent and identically distributed Bernoulli trials before a specified (non-random) number of failures (denoted r) occurs.Unlike the Poisson regression, the negative binomial distribution contains an additional parameter that alters the variance independently of the mean.When there are large number of counts,usually this is preferred.The variance of data that follows a negative binomial distribution is frequently higher than the mean.\n",
    "\n",
    "We can consider a Negative Binomial Distribution for count data with log_likelihood function expressed as:\n",
    "\n",
    "$$\\mathcal{L}(\\beta_j; y, \\alpha) = \\sum_{i=1}^n y_i ln\n",
    "\\left ( \\frac{\\alpha exp(X_i^T\\beta)}{1+\\alpha exp(X_i'\\beta)} \\right ) -\n",
    "\\frac{1}{\\alpha} ln(1+\\alpha exp(X_i^T\\beta)) + ln \\Gamma (y_i + 1/\\alpha) - ln \\Gamma (y_i+1) - ln \\Gamma (1/\\alpha)$$"
   ]
  },
  {
   "cell_type": "code",
   "execution_count": 32,
   "metadata": {},
   "outputs": [],
   "source": [
    "from statsmodels.discrete.discrete_model import NegativeBinomial"
   ]
  },
  {
   "cell_type": "code",
   "execution_count": 144,
   "metadata": {},
   "outputs": [
    {
     "name": "stdout",
     "output_type": "stream",
     "text": [
      "Optimization terminated successfully.\n",
      "         Current function value: 3.417881\n",
      "         Iterations: 4\n",
      "         Function evaluations: 5\n",
      "         Gradient evaluations: 5\n",
      "                     NegativeBinomial Regression Results                      \n",
      "==============================================================================\n",
      "Dep. Variable:                 Length   No. Observations:                 3760\n",
      "Model:               NegativeBinomial   Df Residuals:                     3759\n",
      "Method:                           MLE   Df Model:                            0\n",
      "Date:                Tue, 01 Jun 2021   Pseudo R-squ.:              -1.942e-12\n",
      "Time:                        08:20:02   Log-Likelihood:                -12851.\n",
      "converged:                       True   LL-Null:                       -12851.\n",
      "Covariance Type:            nonrobust   LLR p-value:                       nan\n",
      "==============================================================================\n",
      "                 coef    std err          z      P>|z|      [0.025      0.975]\n",
      "------------------------------------------------------------------------------\n",
      "const          2.5395      0.011    230.979      0.000       2.518       2.561\n",
      "alpha          0.3756      0.010     36.527      0.000       0.355       0.396\n",
      "==============================================================================\n"
     ]
    },
    {
     "data": {
      "text/plain": [
       "const    12.673138\n",
       "alpha     1.455854\n",
       "dtype: float64"
      ]
     },
     "execution_count": 144,
     "metadata": {},
     "output_type": "execute_result"
    }
   ],
   "source": [
    "X = np.ones_like(dataset)\n",
    "res_binom = sm.NegativeBinomial(dataset,X).fit()\n",
    "print(res_binom.summary())\n",
    "np.exp(res_binom.params)"
   ]
  },
  {
   "cell_type": "markdown",
   "metadata": {},
   "source": [
    "From the above,we can see that the beta and alpha coeffiencts are 2.5395 and 0.3756 respectively.s the dispersion parameter's estimate. The data is not spread if the dispersion parameter is 0. If alpha is bigger than zero, the data is distributed too much. Sentence length data is a scattered data in our situation."
   ]
  },
  {
   "cell_type": "markdown",
   "metadata": {},
   "source": [
    "Also we could abserve that the value of log-likelihhod is 12851 and the average of the Negative binomial data is 12.67\n",
    "Based on the MLE estimates of negative binomial regression, weobserve roughly 12.67 length sentences in the book \"Quiet Flows the Don\" (stats model). We discovered that the highest probability estimate is 12,581 and the associated mean is 12.67.This is almost near to the mean"
   ]
  },
  {
   "cell_type": "code",
   "execution_count": 387,
   "metadata": {},
   "outputs": [],
   "source": [
    "from scipy.stats import nbinom\n",
    "def f_binom(mu_nbinom):\n",
    "    p=mu_nbinom/variance\n",
    "    r = p * mu_nbinom / (1-p)\n",
    "    loglikelihood_nbinom = (nbinom.logpmf(dataset, r, p))\n",
    "    return -np.sum(loglikelihood_nbinom)"
   ]
  },
  {
   "cell_type": "markdown",
   "metadata": {},
   "source": [
    "Here nbinom takes two parameters, p and r, where p is the probability of success. In the same way, we have the value of r. The above function creates the products of each individual data point in the dataset's separate probailities densities in logarithmic form."
   ]
  },
  {
   "cell_type": "code",
   "execution_count": 342,
   "metadata": {},
   "outputs": [
    {
     "data": {
      "text/plain": [
       "12867.561209002497"
      ]
     },
     "execution_count": 342,
     "metadata": {},
     "output_type": "execute_result"
    }
   ],
   "source": [
    "f_binom(1)"
   ]
  },
  {
   "cell_type": "markdown",
   "metadata": {},
   "source": [
    "The corresponding loglikelihood is determined once the random parameter (mu) is specified. However, we must select the best parameter (mu) for our data, which we may accomplish by calculating the maximum loglikelihood estimate. "
   ]
  },
  {
   "cell_type": "code",
   "execution_count": 344,
   "metadata": {},
   "outputs": [
    {
     "data": {
      "text/plain": [
       "      fun: 12867.561209002497\n",
       " hess_inv: array([[1]])\n",
       "      jac: array([0.])\n",
       "  message: 'Optimization terminated successfully.'\n",
       "     nfev: 2\n",
       "      nit: 0\n",
       "     njev: 1\n",
       "   status: 0\n",
       "  success: True\n",
       "        x: array([1.])"
      ]
     },
     "execution_count": 344,
     "metadata": {},
     "output_type": "execute_result"
    }
   ],
   "source": [
    "mini(f_binom,1) "
   ]
  },
  {
   "cell_type": "markdown",
   "metadata": {},
   "source": [
    "We are attempting to maximise loglikelihood in this minimise function, which is comparable to attempting to reduce loglikelihood."
   ]
  },
  {
   "cell_type": "code",
   "execution_count": 388,
   "metadata": {},
   "outputs": [
    {
     "data": {
      "text/plain": [
       "<matplotlib.lines.Line2D at 0x2349061f370>"
      ]
     },
     "execution_count": 388,
     "metadata": {},
     "output_type": "execute_result"
    },
    {
     "data": {
      "image/png": "[encoded data removed]",
      "text/plain": [
       "<Figure size 432x288 with 1 Axes>"
      ]
     },
     "metadata": {
      "needs_background": "light"
     },
     "output_type": "display_data"
    }
   ],
   "source": [
    "mus = np.linspace(10,14,1000) # create an array of 3760 values from mean of 0 to 13\n",
    "\n",
    "ys = [] # create an empty list of y coordinates\n",
    "for mu in mus: # for each value of mu in the range\n",
    "    ys.append(f_binom(mu)) # add func(mus,dataset) to the list of y coordinates\n",
    "\n",
    "plt.plot(mus,ys) # plot a line for the negative log likelihood\n",
    "plt.axvline(mean,color='green')"
   ]
  },
  {
   "cell_type": "markdown",
   "metadata": {},
   "source": [
    "The likelihood changes as the average value is changed, as seen in this graph. The correspoding mean value of the largest probability estimate is indicated by the vertical line. In our data, the best parameter for the mean is 12.67, which is the best probability estimate. "
   ]
  },
  {
   "cell_type": "markdown",
   "metadata": {},
   "source": [
    "### Fit of Poisson and Binomial Distribution"
   ]
  },
  {
   "cell_type": "markdown",
   "metadata": {},
   "source": [
    "This can be compared by fitting the data and comparing with the AIC and BIC values."
   ]
  },
  {
   "cell_type": "code",
   "execution_count": 349,
   "metadata": {},
   "outputs": [
    {
     "name": "stdout",
     "output_type": "stream",
     "text": [
      "Optimization terminated successfully.\n",
      "         Current function value: 4.947456\n",
      "         Iterations 1\n",
      "Optimization terminated successfully.\n",
      "         Current function value: 3.417881\n",
      "         Iterations: 4\n",
      "         Function evaluations: 5\n",
      "         Gradient evaluations: 5\n"
     ]
    }
   ],
   "source": [
    "aic_poi=sm.Poisson(dataset, X).fit()\n",
    "aic_binom= sm.NegativeBinomial(dataset, X).fit()"
   ]
  },
  {
   "cell_type": "code",
   "execution_count": 350,
   "metadata": {},
   "outputs": [],
   "source": [
    "aic_poi_value=aic_poi.aic\n",
    "aic_binom_value=aic_binom.aic"
   ]
  },
  {
   "cell_type": "code",
   "execution_count": 351,
   "metadata": {},
   "outputs": [
    {
     "name": "stdout",
     "output_type": "stream",
     "text": [
      "The AIC value of the Poisson regression is: 37206.86706437265\n",
      "The AIC value of Negative Binomial Distribution is: 25706.463131632012\n"
     ]
    }
   ],
   "source": [
    "print(\"The AIC value of the Poisson regression is:\",aic_poi_value)\n",
    "print(\"The AIC value of Negative Binomial Distribution is:\",aic_binom_value)"
   ]
  },
  {
   "cell_type": "markdown",
   "metadata": {},
   "source": [
    "To evaluate how well a model fits into the data, the AIC approach is utilised. When the AUC value is smaller, the model fits better. The AIC value of the Negative Binomial Distribution is lower in this case. As a result, it is more appropriate than Poisson."
   ]
  },
  {
   "cell_type": "code",
   "execution_count": 353,
   "metadata": {},
   "outputs": [],
   "source": [
    "bic_poi_value=aic_poi.bic\n",
    "bic_binom_value=aic_binom.bic"
   ]
  },
  {
   "cell_type": "code",
   "execution_count": 354,
   "metadata": {},
   "outputs": [
    {
     "name": "stdout",
     "output_type": "stream",
     "text": [
      "The BIC value of the Poisson regression is: 37213.09923860904\n",
      "The BIC value of Negative Binomial Distribution is: 25718.92748010478\n"
     ]
    }
   ],
   "source": [
    "print(\"The BIC value of the Poisson regression is:\",bic_poi_value)\n",
    "print(\"The BIC value of Negative Binomial Distribution is:\",bic_binom_value)"
   ]
  },
  {
   "cell_type": "markdown",
   "metadata": {},
   "source": [
    "The Bayesian information criterion(BIC) is a model selection criteria in statistics that favours the model with the lowest BIC among a limited number of models..Here the BIC value of Negative Binomial Distribution is lesser.As a result it matches better than Poisson."
   ]
  },
  {
   "cell_type": "markdown",
   "metadata": {},
   "source": [
    "**Conclusion**\n",
    "The model is reduced to the simpler poisson model when the dispersion value is set to zero. When compared to the poisson model, the negative binomial model fits (estimates) our data better."
   ]
  },
  {
   "cell_type": "markdown",
   "metadata": {},
   "source": [
    "## Maximum A Posterior (MAP) Inference\n",
    "\n",
    "The MAP interface seeks to discover the parameters that maximise the posterior rather than maximising the probablity alone. The posterior can be defined as the product of the model's probability and the parameters' priors.Prior is an expected distribution of likelihood parameters vector.\n",
    "\n",
    "$\\log p(\\mu|x,\\sigma) \\propto \\left(\\sum_i \\log p(x_i|\\mu,\\sigma)\\right) + \\log p(\\mu)$\n",
    "𝑝(𝜇|𝑥,𝜎) is the posterior probability of the parameters in the data,𝑝(𝑥𝑖|𝜇,𝜎)id the Likelihood and 𝑝(𝜇) is prior\n",
    "\n",
    "The methodology we use to execute the MAP interface is similar to that of the greatest likelihood technique. The log of posterior density is found here using a function.Here the negative log posterior density is minimised rather than maximising the log posterior density. Because of the prior that we bring in here, the answer we receive here will change significantly from the MLE technique."
   ]
  },
  {
   "cell_type": "markdown",
   "metadata": {},
   "source": [
    "We'll use the Gamma distribution as a prior distribution, with a shape of 4.0 and a scale of 0.1, to do MAP inference on our data. The Poisson distribution is used to calculate our chance of success. We'll use MAP inference to maximise the posterior density by applying a prior to our likelihood (in log form)."
   ]
  },
  {
   "cell_type": "code",
   "execution_count": 254,
   "metadata": {},
   "outputs": [],
   "source": [
    "def map_posterior(mu):\n",
    "    loglikelihood_map = poi.logpmf(dataset,mu)\n",
    "    loglikelihood_pred = np.sum(loglikelihood_map)\n",
    "    prior = gamma.logpdf(mu,a=4.0,loc=0,scale=0.1)\n",
    "    out=loglikelihood_pred+prior\n",
    "    return -(out)"
   ]
  },
  {
   "cell_type": "code",
   "execution_count": 255,
   "metadata": {},
   "outputs": [
    {
     "data": {
      "text/plain": [
       "      fun: 18713.967526417895\n",
       " hess_inv: array([[0.00307098]])\n",
       "      jac: array([0.])\n",
       "  message: 'Optimization terminated successfully.'\n",
       "     nfev: 28\n",
       "      nit: 12\n",
       "     njev: 14\n",
       "   status: 0\n",
       "  success: True\n",
       "        x: array([12.64031813])"
      ]
     },
     "execution_count": 255,
     "metadata": {},
     "output_type": "execute_result"
    }
   ],
   "source": [
    "mini(map_posterior,1)"
   ]
  },
  {
   "cell_type": "code",
   "execution_count": 268,
   "metadata": {},
   "outputs": [
    {
     "data": {
      "text/plain": [
       "<matplotlib.lines.Line2D at 0x2348d8eeac0>"
      ]
     },
     "execution_count": 268,
     "metadata": {},
     "output_type": "execute_result"
    },
    {
     "data": {
      "image/png": "[encoded data removed]",
      "text/plain": [
       "<Figure size 432x288 with 1 Axes>"
      ]
     },
     "metadata": {
      "needs_background": "light"
     },
     "output_type": "display_data"
    }
   ],
   "source": [
    "mus_1 = np.linspace(9,15,3760) # create an array of 1000 values from -10 to 30.\n",
    "\n",
    "ys_1 = [] # create an empty list of y coordinates\n",
    "for mu_1 in mus_1: # for each value of mu in the range\n",
    "    ys_1.append(map_posterior(mu_1)) # add f(mu) to the list of y coordinates\n",
    "    \n",
    "plt.plot(mus_1,ys_1) # plot a line for the negative log likelihood\n",
    "\n",
    "ml_estimate = mean\n",
    "map_estimate = mini(map_posterior,1).x\n",
    "\n",
    "plt.axvline(ml_estimate,color='red') # add a red vertical line at the ML estimate of mu\n",
    "plt.axvline(map_estimate,color='green')"
   ]
  },
  {
   "cell_type": "markdown",
   "metadata": {},
   "source": [
    "In the given graph,we can see that the green line represents MAP and red line represents MLE.Here MAP is slightly lower due to the effetc of prior which is the gamma distribution of shape 4 and scale 1.\n",
    "From both MAP and MLE estimates,we can see that the average value is around 12.6."
   ]
  },
  {
   "cell_type": "markdown",
   "metadata": {},
   "source": [
    "### Conclusion\n",
    "\n",
    "The goal of MAP inference is to discover parameters that maximise the posterior distribution's posterior distribution. It generates single value estimates of model parameters rather than distributions, just as MLE. In that way, it is extremely similar to the MLE. The maximal lieklikood inference and MAP inference are now equal if the prior is uniform or flat."
   ]
  },
  {
   "cell_type": "markdown",
   "metadata": {},
   "source": [
    "## Task 2: Classification of Naive Bayes and Logistic Regression"
   ]
  },
  {
   "cell_type": "markdown",
   "metadata": {},
   "source": [
    "The workings of Naive Bayes and Logistic Regression utilising a dataset are explained in this task. It also explains how this will predict the label of occurrences and discusses the outcomes."
   ]
  },
  {
   "cell_type": "markdown",
   "metadata": {},
   "source": [
    "### Dataset\n",
    "A large dataset called ATLAS-data.csv and its corresponding labels called ATLAS_Labels.csv are presented here.This was originally produced as part of an open machine learning challenge to develop methods for detecting Higgs bosons from data generated by the ATLAS detector.The values in ATLAS-data.csv are continuous values and contains 29 measurements for 10000 events. ATLAS-labels.csv contains labels for these 10000 events.Measurements are assumed to follow gaussian distribution, since values are not discrete.\n",
    "\n",
    "Here the label of differet events have to be predicted which means to find whether the given measurements belong to a backgroud event or a signal event.0 corresponds to background events and 1 to signal events.\n",
    "\n",
    "Mainly used libraries are sklearn,scipy,numpy"
   ]
  },
  {
   "cell_type": "markdown",
   "metadata": {},
   "source": [
    "### Importing the required libraries"
   ]
  },
  {
   "cell_type": "code",
   "execution_count": 146,
   "metadata": {},
   "outputs": [],
   "source": [
    "import sklearn\n",
    "import numpy as np\n",
    "import matplotlib.pyplot as plt\n",
    "from sklearn.preprocessing import scale  #for scaling the data\n",
    "from sklearn.naive_bayes import GaussianNB  #importing module for fitting\n",
    "from sklearn.model_selection import train_test_split  #for spliting data into train and test sets\n",
    "from sklearn import metrics #for evaluation,confusion matrix\n",
    "from sklearn.linear_model import LogisticRegression  #importing module for fitting\n",
    "import seaborn as sns # for visualisaton\n",
    "from sklearn.metrics import roc_curve, auc #for roc curves\n",
    "from sklearn import datasets, metrics, model_selection, svm "
   ]
  },
  {
   "cell_type": "markdown",
   "metadata": {},
   "source": [
    "### Loading the dataset\n",
    "\n",
    "For Classification of any problem,the first step is loading the dataset.The input data is taken from the ATLAS dataset.This consists of various measurements for predicting the type of the event generated by a simulation of the ATLAS detector at CERN.\n",
    "The output is to predict whther it is a background event or signal event."
   ]
  },
  {
   "cell_type": "code",
   "execution_count": 147,
   "metadata": {},
   "outputs": [],
   "source": [
    "dataset2 = np.loadtxt(\"ATLAS-data.csv\",delimiter=',')\n",
    "labels = np.loadtxt(\"ATLAS-labels.csv\",delimiter=',')"
   ]
  },
  {
   "cell_type": "code",
   "execution_count": 148,
   "metadata": {},
   "outputs": [
    {
     "data": {
      "text/plain": [
       "array([[243.128,  96.455, 158.618, ...,  -1.651,  -1.445, 157.638],\n",
       "       [139.751,  74.028, 111.619, ...,  -1.849,   0.664,  68.614],\n",
       "       [116.217,  73.136,  59.239, ...,   1.442,  -2.288, 140.669],\n",
       "       ...,\n",
       "       [131.185,  25.942, 101.981, ...,   0.459,  -0.292, 172.392],\n",
       "       [142.063,  27.807, 114.4  , ...,   2.913,   0.296, 118.251],\n",
       "       [ 87.491,  21.139,  65.681, ...,   0.289,   2.719, 266.893]])"
      ]
     },
     "execution_count": 148,
     "metadata": {},
     "output_type": "execute_result"
    }
   ],
   "source": [
    "dataset2"
   ]
  },
  {
   "cell_type": "code",
   "execution_count": 149,
   "metadata": {},
   "outputs": [
    {
     "data": {
      "text/plain": [
       "array([0., 0., 0., ..., 1., 1., 0.])"
      ]
     },
     "execution_count": 149,
     "metadata": {},
     "output_type": "execute_result"
    }
   ],
   "source": [
    "labels"
   ]
  },
  {
   "cell_type": "markdown",
   "metadata": {},
   "source": [
    "### Plotting the data\n",
    "The dataset and labels seen are plotted using pyplot\n"
   ]
  },
  {
   "cell_type": "code",
   "execution_count": 150,
   "metadata": {},
   "outputs": [
    {
     "data": {
      "text/plain": [
       "<matplotlib.collections.PathCollection at 0x23489acabb0>"
      ]
     },
     "execution_count": 150,
     "metadata": {},
     "output_type": "execute_result"
    },
    {
     "data": {
      "image/png": "[encoded data removed]",
      "text/plain": [
       "<Figure size 432x288 with 1 Axes>"
      ]
     },
     "metadata": {
      "needs_background": "light"
     },
     "output_type": "display_data"
    }
   ],
   "source": [
    "plt.scatter(dataset2[:,0],dataset2[:,1],c=labels)"
   ]
  },
  {
   "cell_type": "markdown",
   "metadata": {},
   "source": [
    "For data preparation in Naive Bayes model,scaling is required such that the mean is 0 and standard deviation is 1.This is implemented using scikit-learn scale() function."
   ]
  },
  {
   "cell_type": "code",
   "execution_count": 151,
   "metadata": {},
   "outputs": [
    {
     "data": {
      "text/plain": [
       "<matplotlib.collections.PathCollection at 0x2348a7e9550>"
      ]
     },
     "execution_count": 151,
     "metadata": {},
     "output_type": "execute_result"
    },
    {
     "data": {
      "image/png": "[encoded data removed]",
      "text/plain": [
       "<Figure size 432x288 with 1 Axes>"
      ]
     },
     "metadata": {
      "needs_background": "light"
     },
     "output_type": "display_data"
    }
   ],
   "source": [
    "dataset_scaled = sklearn.preprocessing.scale(dataset2)\n",
    "plt.scatter(dataset_scaled[:,0],dataset_scaled[:,1],c=labels)"
   ]
  },
  {
   "cell_type": "markdown",
   "metadata": {},
   "source": [
    "## Naive Bayes Model\n",
    "According to the Bayes' Theorem and the premise that all predictors are independent of one another, the Naive Bayes classifier divides data into multiple groups. It is assumed that the presence of other features in a class is unrelated to the existence of a particular feature in that class.\n",
    "According to the Bayes'Theorem:\n",
    "\n",
    "P(c | x) = P(x | c) P(c)/P(x)\n",
    "\n",
    "The letters ‘c' and ‘x' in this equation stand for class and characteristics, respectively. The posterior probability of class according to the predictor is P(c/x). P(x) is the predictor's prior probability, and P(c) is the class's prior probability. The probability of the prediction according to the class is shown by P(x/c)."
   ]
  },
  {
   "cell_type": "markdown",
   "metadata": {},
   "source": [
    "### Splitting the data into train and test test using K-fold Cross Validation\n",
    "\n",
    "Here k-fold cross validation is used to estimate the skill of the model on the data.The dataset is split into k folds by shuffling the data randomly and each fold is used to fit the model and predict the score"
   ]
  },
  {
   "cell_type": "markdown",
   "metadata": {},
   "source": [
    "The classifier is fit and trained and a prediction is made.The scores are also calculated.This score shows the accuracy score of the model."
   ]
  },
  {
   "cell_type": "code",
   "execution_count": 373,
   "metadata": {},
   "outputs": [
    {
     "name": "stdout",
     "output_type": "stream",
     "text": [
      "[array([0., 0., 0., ..., 1., 1., 0.]), array([1., 0., 1., ..., 1., 1., 1.]), array([1., 0., 0., ..., 0., 0., 1.])]\n",
      "[array([0., 0., 0., ..., 1., 0., 1.]), array([1., 1., 0., ..., 1., 1., 0.]), array([1., 0., 0., ..., 1., 1., 0.])]\n",
      "[0.7549490101979605, 0.7398739873987399, 0.7422742274227423]\n"
     ]
    }
   ],
   "source": [
    "import numpy as np\n",
    "X_folds = np.array_split(dataset2, 3)\n",
    "y_folds = np.array_split(labels, 3)\n",
    "scores = list()\n",
    "predict=list()\n",
    "actual=list()\n",
    "nb_classifier=GaussianNB()\n",
    "\n",
    "for k in range(3):\n",
    "    # We use 'list' to copy, in order to 'pop' later on\n",
    "    X_train = list(X_folds)\n",
    "    X_test = X_train.pop(k)\n",
    "    X_train = np.concatenate(X_train)\n",
    "    y_train = list(y_folds)\n",
    "    y_test = y_train.pop(k)\n",
    "    y_train = np.concatenate(y_train)\n",
    "    predict.append(nb_classifier.fit(X_train, y_train).predict(X_test))\n",
    "    actual.append(y_test)\n",
    "    scores.append(nb_classifier.fit(X_train, y_train).score(X_test, y_test))\n",
    "    \n",
    "    \n",
    "print(predict)\n",
    "print(actual)\n",
    "print(scores)  "
   ]
  },
  {
   "cell_type": "markdown",
   "metadata": {},
   "source": [
    "Here we have split the data into k folds with the value of 3 and calculated the score for each folds.It is observed that the cross validation scores for the three folds are 0.7549490101979605, 0.7398739873987399, 0.7422742274227423 respectively"
   ]
  },
  {
   "cell_type": "markdown",
   "metadata": {},
   "source": [
    "### Confusion Matrix\n",
    "\n",
    "A confusion matrix is a technique for summarizing the performance of a classification algorithm\n",
    "\n",
    "The F-score is a method of combining the model's accuracy and recall, and it is defined as the harmonic mean of the precision and recall of the model.\n",
    "\n",
    "Recall is a statistic that measures how many correct positive predictions were produced out of all possible positive predictions. Unlike precision, which only considers the right positive predictions out of all positive predictions, recall considers the positive predictions that were missed."
   ]
  },
  {
   "cell_type": "code",
   "execution_count": 372,
   "metadata": {},
   "outputs": [],
   "source": [
    "from sklearn.metrics import confusion_matrix\n",
    "from sklearn.metrics import recall_score\n",
    "from sklearn.metrics import f1_score"
   ]
  },
  {
   "cell_type": "code",
   "execution_count": 390,
   "metadata": {},
   "outputs": [
    {
     "name": "stdout",
     "output_type": "stream",
     "text": [
      "[[1273  515]\n",
      " [ 302 1244]]\n",
      "[[1251  473]\n",
      " [ 394 1215]]\n",
      "[[1291  509]\n",
      " [ 350 1183]]\n",
      "[0.7527987897125566, 0.7370336669699727, 0.7336434108527131]\n",
      "[0.8046571798188874, 0.7551274083281542, 0.771689497716895]\n"
     ]
    },
    {
     "data": {
      "image/png": "[encoded data removed]",
      "text/plain": [
       "<Figure size 504x504 with 2 Axes>"
      ]
     },
     "metadata": {
      "needs_background": "light"
     },
     "output_type": "display_data"
    },
    {
     "data": {
      "image/png": "[encoded data removed]",
      "text/plain": [
       "<Figure size 504x504 with 2 Axes>"
      ]
     },
     "metadata": {
      "needs_background": "light"
     },
     "output_type": "display_data"
    },
    {
     "data": {
      "image/png": "[encoded data removed]",
      "text/plain": [
       "<Figure size 504x504 with 2 Axes>"
      ]
     },
     "metadata": {
      "needs_background": "light"
     },
     "output_type": "display_data"
    }
   ],
   "source": [
    "f1score_val= []\n",
    "recallscore_val= []\n",
    "for i in range(0,3):\n",
    "    confusion = metrics.confusion_matrix(actual[i], predict[i])\n",
    "    print(confusion)\n",
    "    plt.figure(figsize=(7,7))\n",
    "    sns.heatmap(confusion, annot=True, fmt=\".3f\", linewidths=.5, square = True, cmap = 'Blues_r');\n",
    "    plt.ylabel('Actual label');\n",
    "    plt.xlabel('Predicted label');\n",
    "    all_sample_title = 'Accuracy Score: {0}'.format(scores[i])\n",
    "    plt.title(all_sample_title, size = 15);\n",
    "    f1score=f1_score(actual[i], predict[i])\n",
    "    f1score_val.append(f1score)\n",
    "    recallscore=recall_score(actual[i], predict[i])\n",
    "    recallscore_val.append(recallscore)\n",
    "print(f1score_val)\n",
    "print(recallscore_val)"
   ]
  },
  {
   "cell_type": "code",
   "execution_count": 384,
   "metadata": {},
   "outputs": [],
   "source": [
    "mean_f1_score=sum(f1score_val)/len(f1score_val)\n",
    "mean_recall_score=sum(recallscore_val)/len(recallscore_val)\n",
    "mean_accuracy_score=sum(scores)/len(scores)"
   ]
  },
  {
   "cell_type": "code",
   "execution_count": 385,
   "metadata": {},
   "outputs": [
    {
     "name": "stdout",
     "output_type": "stream",
     "text": [
      "The F1 score of the model is 0.7411586225117475\n",
      "The recall score of the model is 0.7771580286213121\n",
      "The accuracy of the model is 0.7456990750064808\n"
     ]
    }
   ],
   "source": [
    "print(\"The F1 score of the model is\",mean_f1_score)\n",
    "print(\"The recall score of the model is\",mean_recall_score)\n",
    "print(\"The accuracy of the model is\",mean_accuracy_score)"
   ]
  },
  {
   "cell_type": "markdown",
   "metadata": {},
   "source": [
    "The confusion matrix is predicted by taking the actual and predicted value as parameters for all the three folds.We can see that the model contains more True Positives and True Negatives.The model predict the data with the accuracy of around 75% percent"
   ]
  },
  {
   "cell_type": "markdown",
   "metadata": {},
   "source": [
    "### ROC Curve\n",
    "A Receiver operating characteristic curve (ROC curve) is a graph that shows how well a classification model performs across all categorization levels. Two parameters are shown on this curve:\n",
    "\n",
    "True Positive Rate\n",
    "False Positive Rate\n",
    "\n",
    "TPR vs. FPR at various categorization criteria is plotted on a ROC curve. As the classification threshold is lowered, more items are classified as positive, resulting in an increase in both False Positives and True Positives. A typical ROC curve is seen in the diagram below."
   ]
  },
  {
   "cell_type": "code",
   "execution_count": 191,
   "metadata": {},
   "outputs": [],
   "source": [
    "from sklearn.metrics import plot_roc_curve"
   ]
  },
  {
   "cell_type": "code",
   "execution_count": 199,
   "metadata": {},
   "outputs": [
    {
     "data": {
      "text/plain": [
       "[array([0., 0., 0., ..., 1., 1., 0.]),\n",
       " array([1., 0., 1., ..., 1., 1., 1.]),\n",
       " array([1., 0., 0., ..., 0., 0., 1.])]"
      ]
     },
     "execution_count": 199,
     "metadata": {},
     "output_type": "execute_result"
    }
   ],
   "source": [
    "predict"
   ]
  },
  {
   "cell_type": "code",
   "execution_count": 200,
   "metadata": {},
   "outputs": [
    {
     "data": {
      "text/plain": [
       "[array([0., 0., 0., ..., 1., 0., 1.]),\n",
       " array([1., 1., 0., ..., 1., 1., 0.]),\n",
       " array([1., 0., 0., ..., 1., 1., 0.])]"
      ]
     },
     "execution_count": 200,
     "metadata": {},
     "output_type": "execute_result"
    }
   ],
   "source": [
    "actual"
   ]
  },
  {
   "cell_type": "code",
   "execution_count": 327,
   "metadata": {},
   "outputs": [
    {
     "data": {
      "image/png": "[encoded data removed]",
      "text/plain": [
       "<Figure size 432x288 with 1 Axes>"
      ]
     },
     "metadata": {
      "needs_background": "light"
     },
     "output_type": "display_data"
    },
    {
     "data": {
      "image/png": "[encoded data removed]",
      "text/plain": [
       "<Figure size 432x288 with 1 Axes>"
      ]
     },
     "metadata": {
      "needs_background": "light"
     },
     "output_type": "display_data"
    },
    {
     "data": {
      "image/png": "[encoded data removed]",
      "text/plain": [
       "<Figure size 432x288 with 1 Axes>"
      ]
     },
     "metadata": {
      "needs_background": "light"
     },
     "output_type": "display_data"
    }
   ],
   "source": [
    "for k in range(3):\n",
    "    # We use 'list' to copy, in order to 'pop' later on\n",
    "    X_train = list(X_folds)\n",
    "    X_test = X_train.pop(k)\n",
    "    X_train = np.concatenate(X_train)\n",
    "    y_train = list(y_folds)\n",
    "    y_test = y_train.pop(k)\n",
    "    y_train = np.concatenate(y_train)\n",
    "    nb_classifier.fit(X_train, y_train).predict(X_test)\n",
    "    metrics.plot_roc_curve(nb_classifier,X_test,y_test)  \n",
    "    plt.show()\n",
    "    "
   ]
  },
  {
   "cell_type": "code",
   "execution_count": 292,
   "metadata": {},
   "outputs": [],
   "source": [
    "from sklearn.model_selection import cross_val_score"
   ]
  },
  {
   "cell_type": "markdown",
   "metadata": {},
   "source": [
    "This is a simple method of getting the cross validation score by passing the number of folds along with the given dataset and corresponding labels"
   ]
  },
  {
   "cell_type": "code",
   "execution_count": 293,
   "metadata": {},
   "outputs": [
    {
     "data": {
      "text/plain": [
       "array([0.75669691, 0.7412205 , 0.74521312])"
      ]
     },
     "execution_count": 293,
     "metadata": {},
     "output_type": "execute_result"
    }
   ],
   "source": [
    "cross_val_score(nb_classifier, dataset2, labels, cv=3, scoring='precision_macro')"
   ]
  },
  {
   "cell_type": "markdown",
   "metadata": {},
   "source": [
    "As the algorithm works well for real time prediction,our dataset is one of it which can predict the type of event"
   ]
  },
  {
   "cell_type": "markdown",
   "metadata": {},
   "source": [
    "### Working of Naive Bayes Classification on the data"
   ]
  },
  {
   "cell_type": "markdown",
   "metadata": {},
   "source": [
    "The classification method is based on Bayes Theorrom and the premise of predictor independence. A Naive Bayes classifier assumes that the presence of one feature in a class is unrelated to the presence of any other feature.\n",
    "\n",
    "We must predict the sort of event in our dataset, which might be either background or signal. Each column corresponds to a separate occurrence, with columns for each measurement. All of these things work together to predict an occurrence, which is why it's referred to as Naive.\n",
    "\n",
    "This can be used to classify large datasets.Bayes theorem provides a way of calculating posterior probability P(c|x) from P(c), P(x) and P(x|c). Look at the equation below:\n",
    "P(c | x) = P(x | c) P(c)/P(x)\n",
    "\n",
    "Here the dataset is first converted into a frequency table.It is then followed by creation of likelihood table by finding the probablities and as the final step it is used to calculate the posterior probablity for each class.The class with highest posterior probablity will be the outcome of prediction."
   ]
  },
  {
   "cell_type": "markdown",
   "metadata": {},
   "source": [
    "Since the values are not discrete and follows a continuous distribution it followed a Gaussian distribution.Here probablity of likelihoods are computed by plugging in the probablity density function.Here substitute the corresponding probability density of a Normal distribution and call it the Gaussian Naive Bayes. The mean and variance of the values are needed for computing this."
   ]
  },
  {
   "cell_type": "markdown",
   "metadata": {},
   "source": [
    "\n",
    "## Logistic Regression\n",
    "Logistic Regression is a Machine Learning technique for resolving categorization problems. It is a probability-based predictive analytic method. Instead of using a linear function, it employs a cost function known as the 'Sigmoid function' or the 'logistic function'.According to the logistic regression hypothesis, the cost function should be confined to a value between 0 and 1. As a result, linear functions fail to characterise it since it might have a value more than 1 or less than 0, which the logistic regression hypothesis states is not possible."
   ]
  },
  {
   "cell_type": "markdown",
   "metadata": {},
   "source": [
    "### Splitting the data into train and test\n",
    "The same as discussed above for naive bayes is performed using k fold validation.The model is then fit and value is predicted.Similarly the cross validation and accuracy score is found for all the three folds"
   ]
  },
  {
   "cell_type": "code",
   "execution_count": 376,
   "metadata": {},
   "outputs": [
    {
     "name": "stdout",
     "output_type": "stream",
     "text": [
      "[array([0., 0., 0., ..., 1., 1., 0.]), array([1., 0., 1., ..., 1., 0., 0.]), array([1., 1., 1., ..., 0., 0., 0.])]\n",
      "[array([0., 0., 0., ..., 1., 0., 1.]), array([1., 1., 0., ..., 1., 1., 0.]), array([1., 0., 0., ..., 1., 1., 0.])]\n",
      "[0.7231553689262148, 0.6882688268826883, 0.6960696069606961]\n"
     ]
    }
   ],
   "source": [
    "scores_log = list()\n",
    "predict_log=list()\n",
    "actual_log=list()\n",
    "log_classifier=LogisticRegression()\n",
    "for k in range(3):\n",
    "    X_train_1 = list(X_folds)\n",
    "    X_test_1 =  X_train_1.pop(k)\n",
    "    X_train_1 = np.concatenate(X_train_1)\n",
    "    y_train_1 = list(y_folds)\n",
    "    y_test_1 = y_train_1.pop(k)\n",
    "    y_train_1 = np.concatenate(y_train_1)\n",
    "    predict_log.append(log_classifier.fit(X_train_1, y_train_1).predict(X_test_1))\n",
    "    actual_log.append(y_test_1)\n",
    "    scores_log.append(log_classifier.fit(X_train_1, y_train_1).score(X_test_1, y_test_1))\n",
    "    \n",
    "print(predict_log)\n",
    "print(actual_log)\n",
    "print(scores_log)  "
   ]
  },
  {
   "cell_type": "code",
   "execution_count": 377,
   "metadata": {},
   "outputs": [
    {
     "name": "stdout",
     "output_type": "stream",
     "text": [
      "[[1382  406]\n",
      " [ 517 1029]]\n",
      "[[1305  419]\n",
      " [ 620  989]]\n",
      "[[1312  488]\n",
      " [ 525 1008]]\n",
      "[0.6903723582690372, 0.6556181637388134, 0.6655661934631891]\n",
      "[0.6655886157826649, 0.6146674953387197, 0.6575342465753424]\n"
     ]
    },
    {
     "data": {
      "image/png": "[encoded data removed]",
      "text/plain": [
       "<Figure size 504x504 with 2 Axes>"
      ]
     },
     "metadata": {
      "needs_background": "light"
     },
     "output_type": "display_data"
    },
    {
     "data": {
      "image/png": "[encoded data removed]",
      "text/plain": [
       "<Figure size 504x504 with 2 Axes>"
      ]
     },
     "metadata": {
      "needs_background": "light"
     },
     "output_type": "display_data"
    },
    {
     "data": {
      "image/png": "[encoded data removed]",
      "text/plain": [
       "<Figure size 504x504 with 2 Axes>"
      ]
     },
     "metadata": {
      "needs_background": "light"
     },
     "output_type": "display_data"
    }
   ],
   "source": [
    "f1score_log_val= []\n",
    "recallscore_log_val= []\n",
    "for i in range(0,3):\n",
    "    confusion_log = metrics.confusion_matrix(actual_log[i], predict_log[i])\n",
    "    print(confusion_log)\n",
    "    plt.figure(figsize=(7,7))\n",
    "    sns.heatmap(confusion_log, annot=True, fmt=\".3f\", linewidths=.5, square = True, cmap = 'Blues_r');\n",
    "    plt.ylabel('Actual label');\n",
    "    plt.xlabel('Predicted label');\n",
    "    all_sample_title = 'Accuracy Score: {0}'.format(scores_log[i])\n",
    "    plt.title(all_sample_title, size = 15);\n",
    "    f1score_log=f1_score(actual_log[i], predict_log[i])\n",
    "    f1score_log_val.append(f1score_log)\n",
    "    recallscore_log=recall_score(actual_log[i], predict_log[i])\n",
    "    recallscore_log_val.append(recallscore_log)\n",
    "print(f1score_log_val)\n",
    "print(recallscore_log_val)"
   ]
  },
  {
   "cell_type": "code",
   "execution_count": 382,
   "metadata": {},
   "outputs": [],
   "source": [
    "mean_f1_score_log=sum(f1score_log_val)/len(f1score_log_val)\n",
    "mean_recall_score_log=sum(recallscore_log_val)/len(recallscore_log_val)\n",
    "mean_accuracy_score_log=sum(scores_log)/len(scores_log)"
   ]
  },
  {
   "cell_type": "code",
   "execution_count": 383,
   "metadata": {},
   "outputs": [
    {
     "name": "stdout",
     "output_type": "stream",
     "text": [
      "The F1 score of the model is 0.6705189051570133\n",
      "The recall score of the model is 0.6459301192322423\n",
      "The Accuracy of the model is  0.7024979342565331\n"
     ]
    }
   ],
   "source": [
    "print(\"The F1 score of the model is\",mean_f1_score_log)\n",
    "print(\"The recall score of the model is\",mean_recall_score_log)\n",
    "print(\"The Accuracy of the model is \",mean_accuracy_score_log)"
   ]
  },
  {
   "cell_type": "markdown",
   "metadata": {},
   "source": [
    "This has more true positives and true negatives.The model gives an accuray score of around 70 percent."
   ]
  },
  {
   "cell_type": "code",
   "execution_count": 227,
   "metadata": {},
   "outputs": [
    {
     "data": {
      "image/png": "[encoded data removed]",
      "text/plain": [
       "<Figure size 432x288 with 1 Axes>"
      ]
     },
     "metadata": {
      "needs_background": "light"
     },
     "output_type": "display_data"
    },
    {
     "data": {
      "image/png": "[encoded data removed]",
      "text/plain": [
       "<Figure size 432x288 with 1 Axes>"
      ]
     },
     "metadata": {
      "needs_background": "light"
     },
     "output_type": "display_data"
    },
    {
     "data": {
      "image/png": "[encoded data removed]",
      "text/plain": [
       "<Figure size 432x288 with 1 Axes>"
      ]
     },
     "metadata": {
      "needs_background": "light"
     },
     "output_type": "display_data"
    }
   ],
   "source": [
    "for k in range(3):\n",
    "    # We use 'list' to copy, in order to 'pop' later on\n",
    "    X_train_1 = list(X_folds)\n",
    "    X_test_1 = X_train_1.pop(k)\n",
    "    X_train_1 = np.concatenate(X_train_1)\n",
    "    y_train_1 = list(y_folds)\n",
    "    y_test_1 = y_train_1.pop(k)\n",
    "    y_train_1 = np.concatenate(y_train_1)\n",
    "    log_classifier.fit(X_train_1, y_train_1).predict(X_test_1)\n",
    "    metrics.plot_roc_curve(log_classifier,X_test_1,y_test_1)  \n",
    "    plt.show()"
   ]
  },
  {
   "cell_type": "code",
   "execution_count": 294,
   "metadata": {},
   "outputs": [
    {
     "data": {
      "text/plain": [
       "array([0.71302882, 0.69118228, 0.69670361])"
      ]
     },
     "execution_count": 294,
     "metadata": {},
     "output_type": "execute_result"
    }
   ],
   "source": [
    "cross_val_score(log_classifier, dataset2, labels, cv=3, scoring='precision_macro')"
   ]
  },
  {
   "cell_type": "markdown",
   "metadata": {},
   "source": [
    "The confusion metrics and ROC have been plotted for the Logistic Regression model same as that of Naive BAyes."
   ]
  },
  {
   "cell_type": "markdown",
   "metadata": {},
   "source": [
    "### Working of Logistic Regression on Dataset"
   ]
  },
  {
   "cell_type": "markdown",
   "metadata": {},
   "source": [
    "By showing the probability scores of the dependent variables, logistic regression seeks to quantify the association between a categorical dependent variable and one or more independent variables (typically continuous).This predicts the value only when the data can take two values and is linearly separable\n",
    "\n",
    "Here in our data we have to classify it based on the two events,either a backgroud or signal event.it is used to predict the likelihood of a class or event. The training data is utilised to estimate the value of the parameters utilised in the prediction equation.The output lies between 0 and 1."
   ]
  },
  {
   "cell_type": "markdown",
   "metadata": {},
   "source": [
    "### Comparison of Naive Bayes and Logistic Regression on the model."
   ]
  },
  {
   "cell_type": "markdown",
   "metadata": {},
   "source": [
    "The chance of a given feature vector being linked with a label is calculated using the Nave Bayes classification technique, which is based on Bayes' theorem. The naïve assumption of conditional independence for each feature in the Nave Bayes algorithm indicates that the method assumes that the features are independent, which is not necessarily the case.\n",
    "Logistic regression is a linear classification approach that determines the likelihood of a sample falling into a specific category. The goal of logistic regression is to discover the appropriate decision boundary for separating the classes."
   ]
  },
  {
   "cell_type": "markdown",
   "metadata": {},
   "source": [
    "In our example both the models are used to predict whether the event generated by the  by a simulation of the ATLAS detector is a bacground or signal event.The joint distribution of the feature X and the target Y is modelled by Naive Bayes, which then predicts the posterior probability given as P(y|x).By learning the input to output mapping and minimising the error, logistic regression directly predicts the posterior probability of P(y|x)."
   ]
  },
  {
   "cell_type": "markdown",
   "metadata": {},
   "source": [
    "While seeing the output prediction we can conclude that naive bayes works well than logistic regression for this dataset.Although there are not much differnce in the accuracy score,the naive bayes performed well.Also the number of true positives and true negative rates were more for naive bayes than that of logistic regression."
   ]
  },
  {
   "cell_type": "markdown",
   "metadata": {},
   "source": [
    "### Conclusion"
   ]
  },
  {
   "cell_type": "markdown",
   "metadata": {},
   "source": [
    "On performing analysis on the ATLAS dataset for predicting the events as background and signal,two diffrent models were tried.Analysis were performed by fitting the model and predicting the results.The two models used were Naive Bayes and Logistic Regression.The conclusion from the results include:\n",
    "* The TPR and FPR were compared and the AUC was obtained.The more the value of AUC,the stronger is the TPR.Since Naive Bayes have greater value for ROC than Logistic Regression,Naive Bayes is better\n",
    "* On predicting the confusion matrix,Naive Bayes has a strong value in right diagonal than Logistic Regression ,So it performs better.\n",
    "* Accuracy score of Naive Bayes model(74.5) is more than that of Logistic Regression(70.2)\n",
    "* Naive Bayes has a higher F1 and Recall score(0.74,0.77) compared to Logistic Regression(0.67,0.64)\n",
    "\n",
    "Overall the Naive Bayes model performed well and performed better than Logistic Regression Model for our dataset.\n",
    "    "
   ]
  }
 ],
 "metadata": {
  "kernelspec": {
   "display_name": "Python 3",
   "language": "python",
   "name": "python3"
  },
  "language_info": {
   "codemirror_mode": {
    "name": "ipython",
    "version": 3
   },
   "file_extension": ".py",
   "mimetype": "text/x-python",
   "name": "python",
   "nbconvert_exporter": "python",
   "pygments_lexer": "ipython3",
   "version": "3.8.5"
  }
 },
 "nbformat": 4,
 "nbformat_minor": 4
}
